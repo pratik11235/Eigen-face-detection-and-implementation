{
 "cells": [
  {
   "cell_type": "markdown",
   "id": "4dc72a71",
   "metadata": {},
   "source": [
    "# CSE 6367 Programming Assignment 3 (P3)"
   ]
  },
  {
   "cell_type": "markdown",
   "id": "5a09d5c9",
   "metadata": {},
   "source": [
    "## Spring 2023"
   ]
  },
  {
   "cell_type": "markdown",
   "id": "4fa3620b",
   "metadata": {},
   "source": [
    "## Eigenfaces"
   ]
  },
  {
   "cell_type": "markdown",
   "id": "67a7d1dd",
   "metadata": {},
   "source": [
    "### Task 1 (30 points)\n",
    "1. Load all the 25 images in the \"/Eigenfaces/Train\"\n",
    "2. Display all the original faces in a 5X5 grid. Resize the images to 100X100 pixels for display only.\n",
    "3. Find the mean face image. Perform PCA on the training faces.\n",
    "4. Display the mean face. Resize the mean face to 100X100 pixels for display only\n",
    "5. Diplay all the eigenfaces in a 5X5 grid."
   ]
  },
  {
   "cell_type": "markdown",
   "id": "b1aadb9c",
   "metadata": {},
   "source": [
    "### Task 2 (30 points)\n",
    "\n",
    "1. Select k = 2 eigenfaces (eigenvectors that correspond to the largest eigenvalues).\n",
    "2. Reconstruct the training faces and display the reconstructed faces in a 5X5 grid.\n",
    "3. Repeat the process for k = 5 and k = 15. For each k, reconstruct the training faces and display the reconstructed image in a 5X5 grid."
   ]
  },
  {
   "cell_type": "markdown",
   "id": "95d06ef0",
   "metadata": {},
   "source": [
    "### Task 3 (40 points)\n",
    "1. Load all the test images from \"/Eigenfaces/Test\"\n",
    "2. Project each image on the k = 2 eigenvectors and find if it's a face. If it's a face, find it's closest training image. Use euclidean distance to calculate distance.\n",
    "3. Display all the results in an M X 2 table, where M is total no of test images. Each row of the table displays two images. The image on the left is the test image. The image on the right is it's closest image in the eigenfaces space. If an image is classified as a non-face, then the second column in the table should be blank.\n",
    "4. Repeat the process and display the results for k = 5, k = 15."
   ]
  },
  {
   "cell_type": "markdown",
   "id": "7d7b359f",
   "metadata": {},
   "source": [
    "### Submission Guidelines:\n",
    "    Submit through Canvas your source code in a single .ipynb file. The name of the .ipynb file should be YourStudentID.ipynb. (For example: 1001234567.ipynb)\n",
    "    Import all the images from the ./Eigenfaces directory. Your TA will use the same directory name to grade your submission.\n",
    "    You don't need to attach the dataset with your submission."
   ]
  },
  {
   "cell_type": "markdown",
   "id": "6def88af",
   "metadata": {},
   "source": [
    "Assignment Courtesy: Prof. Farhad Kamangar, CSE@UTA"
   ]
  }
 ],
 "metadata": {
  "kernelspec": {
   "display_name": "opencv-env",
   "language": "python",
   "name": "opencv-env"
  },
  "language_info": {
   "codemirror_mode": {
    "name": "ipython",
    "version": 3
   },
   "file_extension": ".py",
   "mimetype": "text/x-python",
   "name": "python",
   "nbconvert_exporter": "python",
   "pygments_lexer": "ipython3",
   "version": "3.10.4"
  }
 },
 "nbformat": 4,
 "nbformat_minor": 5
}
